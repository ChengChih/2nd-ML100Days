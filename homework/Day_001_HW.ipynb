{
 "cells": [
  {
   "cell_type": "raw",
   "metadata": {},
   "source": [
    "1-1.  我參考的資料為各國自殺率的資料，而為何覺得資料重要？若是可以準確預測未來自殺率的多寡及分布，就可以在調配人力方\n",
    "      面進行更精準的預估，更能避免不必要的浪費，也可以對高峰時期投注更多的人力預防自殺，不會導致高峰時出現人力不足，\n",
    "      相關人員疲於奔命的狀況。\n",
    "      \n",
    "1-2.  United Nations Development Program. (2018). Human development index (HDI). Retrieved from \n",
    "      http://hdr.undp.org/en/indicators/137506\n",
    "\n",
    "      World Bank. (2018). World development indicators: GDP (current US) by country:1985 to 2016. \n",
    "      Retrieved from \n",
    "      http://databank.worldbank.org/data/source/world-development-indicators#\n",
    "\n",
    "      [Szamil]. (2017). Suicide in the Twenty-First Century [dataset]. Retrieved from \n",
    "      https://www.kaggle.com/szamil/suicide-in-the-twenty-first-century/notebook\n",
    "\n",
    "      World Health Organization. (2018). Suicide prevention. Retrieved from \n",
    "      http://www.who.int/mental_health/suicide-prevention/en/\n",
    "\n",
    "1-3.  country：String(Country)\n",
    "      year：Integer\n",
    "      sex：String\n",
    "      age：String\n",
    "      suicides_no：Integer\n",
    "      population：Integer\n",
    "      suicides/100k pop：Decimal\n",
    "      country-year：String\n",
    "      HDI for year：Decimal\n",
    "      gdp_for_year：Decimal\n",
    "      gdp_per_capita：Integer\n",
    "      generation：String\n",
    "\n",
    "1-4.  主要是預估未來的自殺率和其對全球分布\n",
    "      使用一部分的data做出model後，用剩下的data來評估我做出來的model的好壞"
   ]
  },
  {
   "cell_type": "markdown",
   "metadata": {},
   "source": [
    "2-1.  相對於同一時間，比較分析前後的載客量是否有提升\n",
    "      如何準確地預估人潮及尖峰時間，達到更有效率的資源分配，使得空車率下降\n",
    "      \n",
    "2-2.  公司有一套系統紀錄每位司機的載客時段、載客時間區間、客人上車地點、客人下車地點、公里數、金額...等，同時記錄來電叫車的時間、地\n",
    "      點，且記錄在公司的data base裡，我們可以到公司的data base裡撈取想要的資料進行分析\n",
    "      \n",
    "2-3.  司機的載客時間：datetime\n",
    "      載客時間區間：datetime\n",
    "      客人上車地點：String\n",
    "      客人下車地點：String\n",
    "      公里數：Decimal\n",
    "      金額：Integer\n",
    "      來電叫車時間：datetime\n",
    "      來電叫車地點：String\n",
    "      來客叫車電話號碼：String\n",
    "      \n",
    "2-4.  跑模型得出的結果，我們可以實際執行後，取得現實結果進行驗證"
   ]
  },
  {
   "cell_type": "markdown",
   "metadata": {},
   "source": [
    "## 練習時間\n",
    "#### 請寫一個函式用來計算 Mean Square Error\n",
    "$ MSE = \\frac{1}{n}\\sum_{i=1}^{n}{(Y_i - \\hat{Y}_i)^2} $\n",
    "\n",
    "### Hint: [如何取平方](https://googoodesign.gitbooks.io/-ezpython/unit-1.html)"
   ]
  },
  {
   "cell_type": "code",
   "execution_count": 12,
   "metadata": {},
   "outputs": [],
   "source": [
    "import numpy as np\n",
    "import matplotlib.pyplot as plt"
   ]
  },
  {
   "cell_type": "code",
   "execution_count": 13,
   "metadata": {},
   "outputs": [],
   "source": [
    "def mean_squared_error(y, yp):\n",
    "    \"\"\"\n",
    "    請完成這個 Function 後往下執行\n",
    "    \"\"\"\n",
    "    mse = MSE = sum((y - yp) ** 2) / len(y)\n",
    "    return mse\n",
    "\n",
    "def mean_absolute_error(y, yp):\n",
    "    \"\"\"\n",
    "    計算 MAE\n",
    "    Args:\n",
    "        - y: 實際值\n",
    "        - yp: 預測值\n",
    "    Return:\n",
    "        - mae: MAE\n",
    "    \"\"\"\n",
    "    mae = MAE = sum(abs(y - yp)) / len(y)\n",
    "    return mae"
   ]
  },
  {
   "cell_type": "code",
   "execution_count": 14,
   "metadata": {},
   "outputs": [
    {
     "data": {
      "image/png": "[encoded data removed]",
      "text/plain": [
       "<Figure size 432x288 with 1 Axes>"
      ]
     },
     "metadata": {
      "needs_background": "light"
     },
     "output_type": "display_data"
    }
   ],
   "source": [
    "w = 3\n",
    "b = 0.5\n",
    "\n",
    "x_lin = np.linspace(0, 100, 101)\n",
    "\n",
    "y = (x_lin + np.random.randn(101) * 5) * w + b\n",
    "\n",
    "plt.plot(x_lin, y, 'b.', label = 'data points')\n",
    "plt.title(\"Assume we have data points\")\n",
    "plt.legend(loc = 2)\n",
    "plt.show()"
   ]
  },
  {
   "cell_type": "code",
   "execution_count": 15,
   "metadata": {},
   "outputs": [
    {
     "data": {
      "image/png": "[encoded data removed]",
      "text/plain": [
       "<Figure size 432x288 with 1 Axes>"
      ]
     },
     "metadata": {
      "needs_background": "light"
     },
     "output_type": "display_data"
    }
   ],
   "source": [
    "y_hat = x_lin * w + b\n",
    "plt.plot(x_lin, y, 'b.', label = 'data')\n",
    "plt.plot(x_lin, y_hat, 'r-', label = 'prediction')\n",
    "plt.title(\"Assume we have data points (And the prediction)\")\n",
    "plt.legend(loc = 2)\n",
    "plt.show()"
   ]
  },
  {
   "cell_type": "code",
   "execution_count": 16,
   "metadata": {},
   "outputs": [
    {
     "name": "stdout",
     "output_type": "stream",
     "text": [
      "The Mean squared error is 216.831\n",
      "The Mean absolute error is 12.449\n"
     ]
    }
   ],
   "source": [
    "# 執行 Function, 確認有沒有正常執行\n",
    "MSE = mean_squared_error(y, y_hat)\n",
    "MAE = mean_absolute_error(y, y_hat)\n",
    "print(\"The Mean squared error is %.3f\" % (MSE))\n",
    "print(\"The Mean absolute error is %.3f\" % (MAE))"
   ]
  },
  {
   "cell_type": "code",
   "execution_count": null,
   "metadata": {},
   "outputs": [],
   "source": []
  }
 ],
 "metadata": {
  "anaconda-cloud": {},
  "kernelspec": {
   "display_name": "Python 3",
   "language": "python",
   "name": "python3"
  },
  "language_info": {
   "codemirror_mode": {
    "name": "ipython",
    "version": 3
   },
   "file_extension": ".py",
   "mimetype": "text/x-python",
   "name": "python",
   "nbconvert_exporter": "python",
   "pygments_lexer": "ipython3",
   "version": "3.7.3"
  }
 },
 "nbformat": 4,
 "nbformat_minor": 2
}
