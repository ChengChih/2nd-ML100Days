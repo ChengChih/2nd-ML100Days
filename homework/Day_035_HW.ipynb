{
 "cells": [
  {
   "cell_type": "markdown",
   "metadata": {},
   "source": [
    "## 練習時間\n",
    "相信大家對回歸問題及分類問題都有初步的了解。今天的作業希望大家搜尋有關 multi-label 的案例問題。下圖是電影 \"奇異博士\" 的分類。可以看到同時有 \"Action\", \"Adventure\", \"Fantasy\" 的類別存在，代表這是個多標籤的問題。 "
   ]
  },
  {
   "cell_type": "markdown",
   "metadata": {},
   "source": [
    "![image](https://cdn-images-1.medium.com/max/1000/1*r0gYXMSQf5VhdMyl2bRDyg.png)"
   ]
  },
  {
   "cell_type": "markdown",
   "metadata": {},
   "source": [
    "## 請搜尋目標為多標籤問題 (Multi-label) 的機器學習案例，了解其資料來源、目標以及評估指標為何\n",
    "## Hint: 服飾"
   ]
  },
  {
   "cell_type": "markdown",
   "metadata": {},
   "source": [
    "資料來源：阿里電商數據\n",
    "目標：服飾商品的局部屬性識別\n",
    "評估指標：\n",
    "1. 錄入參賽者提交的csv檔，為每條資料計算出AttrValueProbs中的最大概率以及對應的標籤，分別記為MaxAttrValueProb和MaxAttrValue。\n",
    "2. 對每個屬性維度，分別初始化評測計數器：\n",
    "    BLOCK_COUNT = 0 (不輸出的個數)\n",
    "    PRED_COUNT = 0 (預測輸出的個數)\n",
    "    PRED_CORRECT_COUNT = 0 (預測正確的個數)\n",
    "    設定GT_COUNT為該屬性維度下所有相關資料的總條數\n",
    "3. 給定一個模型輸出閾值（ProbThreshold），分析與該屬性維度相關的每條資料的預測結果：\n",
    "    當MaxAttrValueProb < ProbThreshold，模型不輸出：BLOCK_COUNT++\n",
    "    當MaxAttrValueProb >= ProbThreshold：\n",
    "    MaxAttrValue對應的標注位是'y'時，記為正確： PRED_COUNT++，PRED_CORRECT_COUNT++\n",
    "    MaxAttrValue對應的標注位是'm'時，不記入準確率評測：無操作\n",
    "    MaxAttrValue對應的標注位是'n'時，記為錯誤： PRED_COUNT++\n",
    "4. 遍歷使BLOCK_COUNT落在[0, GT_COUNT)裡所有可能的閾值ProbThreshold，分別計算：\n",
    "    準確率(P)：PRED_CORRECT_COUNT / PRED_COUNT\n",
    "    統計它們的平均值，記為AP。 \n",
    "5. 綜合所有的屬性維度計算得到的AP，統計它們的平均值，得出mAP。mAP將作為挑戰賽——服飾屬性標籤識別賽道的競賽排名得分。\n",
    "\n",
    "6. 我們還會展示BasicPrecision指標，即模型在測試集全部預測輸出(ProbThreshold=0)情況下每個屬性維度準確率的平均值，作為更直接的準確率預估指標供大家參考。在BasicPrecision = 0.7時，排名得分mAP一般在 0.93 左右。\n"
   ]
  }
 ],
 "metadata": {
  "kernelspec": {
   "display_name": "Python 3",
   "language": "python",
   "name": "python3"
  },
  "language_info": {
   "codemirror_mode": {
    "name": "ipython",
    "version": 3
   },
   "file_extension": ".py",
   "mimetype": "text/x-python",
   "name": "python",
   "nbconvert_exporter": "python",
   "pygments_lexer": "ipython3",
   "version": "3.7.3"
  }
 },
 "nbformat": 4,
 "nbformat_minor": 2
}
